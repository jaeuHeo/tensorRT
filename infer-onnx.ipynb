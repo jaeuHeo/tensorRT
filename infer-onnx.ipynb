{
 "cells": [
  {
   "cell_type": "code",
   "execution_count": 1,
   "id": "4f47d50a",
   "metadata": {},
   "outputs": [],
   "source": [
    "#!/usr/bin/env python3\n",
    "# -*- coding: utf-8 -*-\n",
    "\"\"\"\n",
    "_____________________________________________________________________________\n",
    "\n",
    "This file contains main inference pipeline to Triton\n",
    "_____________________________________________________________________________\n",
    "\"\"\"\n",
    "import sys\n",
    "import os\n",
    "import time\n",
    "import argparse\n",
    "\n",
    "import torch\n",
    "import torch.nn as nn\n",
    "import torch.backends.cudnn as cudnn\n",
    "from torch.autograd import Variable\n",
    "\n",
    "from PIL import Image\n",
    "\n",
    "import cv2\n",
    "from skimage import io\n",
    "import numpy as np\n",
    "import craft_utils\n",
    "import imgproc\n",
    "import file_utils\n",
    "import json\n",
    "import zipfile\n",
    "\n",
    "from craft import CRAFT\n",
    "\n",
    "from collections import OrderedDict\n",
    "\n",
    "import matplotlib.pyplot as plt\n",
    "device = torch.device('cuda' if torch.cuda.is_available() else 'cpu')\n",
    "\n",
    "def str2bool(v):\n",
    "    return v.lower() in (\"yes\", \"y\", \"true\", \"t\", \"1\")\n",
    "\n",
    "# parser = argparse.ArgumentParser(description='Triton inference pipeline for CRAFT Text Detection')\n",
    "# parser.add_argument('--text_threshold', default=0.7, type=float, help='text confidence threshold')\n",
    "# parser.add_argument('--low_text', default=0.4, type=float, help='text low-bound score')\n",
    "# parser.add_argument('--link_threshold', default=0.4, type=float, help='link confidence threshold')\n",
    "# parser.add_argument('--cuda', default=True, type=str2bool, help='Use cuda for inference')\n",
    "# parser.add_argument('--canvas_size', default=1100, type=int, help='image size for inference')\n",
    "# parser.add_argument('--mag_ratio', default=1.5, type=float, help='image magnification ratio')\n",
    "# parser.add_argument('--poly', default=False, action='store_true', help='enable polygon type')\n",
    "# parser.add_argument('--show_time', default=False, action='store_true', help='show processing time')\n",
    "# parser.add_argument('--test_folder', default='images/', type=str, help='folder path to input images')\n",
    "\n",
    "# args = parser.parse_args()\n",
    "\n",
    "\n",
    "\"\"\" For test images in a folder \"\"\"\n",
    "# image_list, _, _ = file_utils.get_files(args.test_folder)\n",
    "\n",
    "# result_folder = './result/'\n",
    "# if not os.path.isdir(result_folder):\n",
    "#     os.mkdir(result_folder)\n",
    "\n",
    "def test_net(net, image, text_threshold, link_threshold, low_text, cuda, poly,refine_net=None):\n",
    "    t0 = time.time()\n",
    "\n",
    "    # resize\n",
    "    img_resized, target_ratio, size_heatmap = imgproc.resize_aspect_ratio(image, args.canvas_size, interpolation=cv2.INTER_LINEAR, mag_ratio=args.mag_ratio)\n",
    "    ratio_h = ratio_w = 1 / target_ratio\n",
    "\n",
    "    # preprocessing\n",
    "    x = imgproc.normalizeMeanVariance(img_resized)\n",
    "    \n",
    "    x = torch.from_numpy(x).permute(2, 0, 1)    # [h, w, c] to [c, h, w]\n",
    "    x = Variable(x.unsqueeze(0))                # [c, h, w] to [b, c, h, w]\n",
    "    if cuda:\n",
    "        x = x.cuda()\n",
    "\n",
    "    # forward pass\n",
    "    with torch.no_grad():\n",
    "        y, feature = net(x)\n",
    "        \n",
    "\n",
    "    # make score and link map\n",
    "    score_text = y[0,:,:,0].cpu().data.numpy()\n",
    "    score_link = y[0,:,:,1].cpu().data.numpy()\n",
    "    \n",
    "    return score_text, score_link\n",
    "#     # refine link\n",
    "#     if refine_net is not None:\n",
    "#         with torch.no_grad():\n",
    "#             y_refiner = refine_net(y, feature)\n",
    "#         score_link = y_refiner[0,:,:,0].cpu().data.numpy()\n",
    "\n",
    "#     t0 = time.time() - t0\n",
    "#     t1 = time.time()\n",
    "\n",
    "#     # Post-processing\n",
    "#     boxes, polys = craft_utils.getDetBoxes(score_text, score_link, text_threshold, link_threshold, low_text, poly)\n",
    "    \n",
    "#     # coordinate adjustment\n",
    "#     boxes = craft_utils.adjustResultCoordinates(boxes, ratio_w, ratio_h)\n",
    "#     polys = craft_utils.adjustResultCoordinates(polys, ratio_w, ratio_h)\n",
    "#     for k in range(len(polys)):\n",
    "#         if polys[k] is None: polys[k] = boxes[k]\n",
    "\n",
    "#     t1 = time.time() - t1\n",
    "\n",
    "#     # render results (optional)\n",
    "#     render_img = score_text.copy()\n",
    "#     render_img = np.hstack((render_img, score_link))\n",
    "#     ret_score_text = imgproc.cvt2HeatmapImg(render_img)\n",
    "\n",
    "#     if args.show_time : print(\"\\ninfer/postproc time : {:.3f}/{:.3f}\".format(t0, t1))\n",
    "\n",
    "#     return boxes, polys, ret_score_text\n",
    "\n",
    "\n",
    "# Example cmd:\n",
    "# python infer_onnx.py"
   ]
  },
  {
   "cell_type": "code",
   "execution_count": 2,
   "id": "e1c60429",
   "metadata": {},
   "outputs": [],
   "source": [
    "class Args():\n",
    "    def __init__(self,cuda=True, trained_model='weights/craft_mlt_25k.pth', text_threshold=0.7, low_text=0.4, link_threshold=0.4, canvas_size =1100, mag_ratio=1.5, poly=False, show_time=False,test_folder='/data/',refine=False, refiner_model='weights/craft_refiner_CTW1500.pth'):\n",
    "        self.cuda = cuda\n",
    "        self.trained_model = trained_model = trained_model\n",
    "        self.text_threshold = text_threshold\n",
    "        self.low_text = low_text\n",
    "        self.link_threshold = link_threshold\n",
    "        self.canvas_size = canvas_size\n",
    "        self.mag_ratio = mag_ratio\n",
    "        self.poly = poly\n",
    "        self.show_time = show_time\n",
    "        self.test_folder = test_folder\n",
    "        self.refine = refine\n",
    "        self.refiner_model = refiner_model\n",
    "        \n",
    "def img_show(img, size =(15,15)):\n",
    "    plt.rcParams[\"figure.figsize\"] = size\n",
    "    imgplot = plt.imshow(cv2.cvtColor(img, cv2.COLOR_BGR2RGB))\n",
    "    plt.show()\n",
    "    \n",
    "\n",
    "args = Args()"
   ]
  },
  {
   "cell_type": "code",
   "execution_count": 3,
   "id": "d6e0af9c",
   "metadata": {},
   "outputs": [
    {
     "name": "stdout",
     "output_type": "stream",
     "text": [
      "Loading weights from checkpoint (weights/craft_mlt_25k.pth)\n"
     ]
    }
   ],
   "source": [
    "net = CRAFT() \n",
    "# initialize\n",
    "def copyStateDict(state_dict):\n",
    "    if list(state_dict.keys())[0].startswith(\"module\"):\n",
    "        start_idx = 1\n",
    "    else:\n",
    "        start_idx = 0\n",
    "    new_state_dict = OrderedDict()\n",
    "    for k, v in state_dict.items():\n",
    "        name = \".\".join(k.split(\".\")[start_idx:])\n",
    "        new_state_dict[name] = v\n",
    "    return new_state_dict\n",
    "\n",
    "def str2bool(v):\n",
    "    return v.lower() in (\"yes\", \"y\", \"true\", \"t\", \"1\")\n",
    "print('Loading weights from checkpoint (' + args.trained_model + ')')\n",
    "\n",
    "if args.cuda:\n",
    "    net.load_state_dict(copyStateDict(torch.load(args.trained_model)))\n",
    "else:\n",
    "    net.load_state_dict(copyStateDict(torch.load(args.trained_model, map_location='cpu')))\n",
    "\n",
    "if args.cuda:\n",
    "    net = net.cuda()\n",
    "    net = torch.nn.DataParallel(net)\n",
    "    cudnn.benchmark = False\n",
    "\n",
    "net.eval()\n",
    "\n",
    "# LinkRefiner\n",
    "refine_net = None\n",
    "if args.refine:\n",
    "    from refinenet import RefineNet\n",
    "    refine_net = RefineNet()\n",
    "    print('Loading weights of refiner from checkpoint (' + args.refiner_model + ')')\n",
    "    if args.cuda:\n",
    "        refine_net.load_state_dict(copyStateDict(torch.load(args.refiner_model)))\n",
    "        refine_net = refine_net.cuda()\n",
    "        refine_net = torch.nn.DataParallel(refine_net)\n",
    "    else:\n",
    "        refine_net.load_state_dict(copyStateDict(torch.load(args.refiner_model, map_location='cpu')))\n",
    "\n",
    "    refine_net.eval()\n",
    "    args.poly = True"
   ]
  },
  {
   "cell_type": "code",
   "execution_count": 12,
   "id": "480462b4",
   "metadata": {},
   "outputs": [
    {
     "name": "stderr",
     "output_type": "stream",
     "text": [
      "Clipping input data to the valid range for imshow with RGB data ([0..1] for floats or [0..255] for integers).\n"
     ]
    },
    {
     "name": "stdout",
     "output_type": "stream",
     "text": [
      "Test image : ./test_smallimg.png\n",
      "(48, 504, 3)\n"
     ]
    },
    {
     "data": {
      "image/png": "[encoded data removed]",
      "text/plain": [
       "<Figure size 1080x1080 with 1 Axes>"
      ]
     },
     "metadata": {
      "needs_background": "light"
     },
     "output_type": "display_data"
    },
    {
     "name": "stdout",
     "output_type": "stream",
     "text": [
      "elapsed time : 0.1433255672454834s\n"
     ]
    }
   ],
   "source": [
    "# if __name__ == '__main__':\n",
    "t = time.time()\n",
    "image_path = './test_smallimg.png'\n",
    "print(\"Test image :\", image_path)\n",
    "\n",
    "image = imgproc.loadImage(image_path)\n",
    "print(image.shape)\n",
    "\n",
    "img_resized, target_ratio, size_heatmap = imgproc.resize_aspect_ratio(image, args.canvas_size, interpolation=cv2.INTER_LINEAR, mag_ratio=args.mag_ratio)\n",
    "ratio_h = ratio_w = 1 / target_ratio\n",
    "\n",
    "# preprocessing\n",
    "x = imgproc.normalizeMeanVariance(img_resized)\n",
    "img_show(x)\n",
    "x = torch.from_numpy(x).permute(2, 0, 1)    # [h, w, c] to [c, h, w]\n",
    "x = Variable(x.unsqueeze(0))\n",
    "\n",
    "# score_text, score_link = test_net(net, image, args.text_threshold, args.link_threshold, args.low_text, args.cuda, args.poly, refine_net)\n",
    "\n",
    "# save score text\n",
    "# filename, file_ext = os.path.splitext(os.path.basename(image_path))\n",
    "# mask_file = result_folder + \"/res_\" + filename + '_mask_triton.jpg'\n",
    "# cv2.imwrite(mask_file, score_text)\n",
    "\n",
    "print(\"elapsed time : {}s\".format(time.time() - t))"
   ]
  },
  {
   "cell_type": "code",
   "execution_count": null,
   "id": "ed8d0305",
   "metadata": {
    "scrolled": true
   },
   "outputs": [],
   "source": [
    "img_resized, target_ratio, size_heatmap = imgproc.resize_aspect_ratio(image, args.canvas_size, interpolation=cv2.INTER_LINEAR, mag_ratio=args.mag_ratio)\n",
    "ratio_h = ratio_w = 1 / target_ratio\n",
    "\n",
    "# preprocessing\n",
    "x = imgproc.normalizeMeanVariance(img_resized)\n",
    "\n",
    "x = torch.from_numpy(x).permute(2, 0, 1)    # [h, w, c] to [c, h, w]\n",
    "x = Variable(x.unsqueeze(0))  "
   ]
  },
  {
   "cell_type": "code",
   "execution_count": null,
   "id": "72c4af14",
   "metadata": {},
   "outputs": [],
   "source": [
    "x.shape"
   ]
  },
  {
   "cell_type": "code",
   "execution_count": null,
   "id": "9214aadc",
   "metadata": {},
   "outputs": [],
   "source": [
    "onnx_file_path = \"./weights/detect.onnx\"\n",
    "\n",
    "import onnxruntime as ort\n",
    "\n",
    "ort_session = ort.InferenceSession(onnx_file_path)\n",
    "def to_numpy(tensor):\n",
    "    return tensor.detach().cpu().numpy() if tensor.requires_grad else tensor.cpu().numpy()\n",
    "\n",
    "# ONNX 런타임에서 계산된 결과값\n",
    "ort_inputs = {ort_session.get_inputs()[0].name: to_numpy(x)}\n",
    "outputs = ort_session.run(\n",
    "    None,\n",
    "    ort_inputs,\n",
    ")\n",
    "print(outputs[0].shape)\n",
    "\n",
    "score_text_onnx = outputs[0][0,:,:,0]\n",
    "score_link_onnx = outputs[0][0,:,:,1]\n",
    "img_show(score_text_onnx)\n",
    "img_show(score_link_onnx)"
   ]
  },
  {
   "cell_type": "code",
   "execution_count": null,
   "id": "e454f8b6",
   "metadata": {},
   "outputs": [],
   "source": [
    "import onnx\n",
    "onnx_model = onnx.load(\"./weights/detect.onnx\")"
   ]
  },
  {
   "cell_type": "code",
   "execution_count": null,
   "id": "d0c3367a",
   "metadata": {},
   "outputs": [],
   "source": [
    "print(onnx_model.graph.input)"
   ]
  },
  {
   "cell_type": "code",
   "execution_count": null,
   "id": "0a4db326",
   "metadata": {},
   "outputs": [],
   "source": [
    "score_text_onnx"
   ]
  },
  {
   "cell_type": "code",
   "execution_count": null,
   "id": "28d369c3",
   "metadata": {},
   "outputs": [],
   "source": [
    "print(np.max(np.abs(score_text - score_text_onnx)))"
   ]
  },
  {
   "cell_type": "code",
   "execution_count": null,
   "id": "7b3f37d5",
   "metadata": {},
   "outputs": [],
   "source": []
  }
 ],
 "metadata": {
  "kernelspec": {
   "display_name": "Python 3",
   "language": "python",
   "name": "python3"
  },
  "language_info": {
   "codemirror_mode": {
    "name": "ipython",
    "version": 3
   },
   "file_extension": ".py",
   "mimetype": "text/x-python",
   "name": "python",
   "nbconvert_exporter": "python",
   "pygments_lexer": "ipython3",
   "version": "3.6.9"
  }
 },
 "nbformat": 4,
 "nbformat_minor": 5
}
